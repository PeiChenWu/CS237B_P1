{
 "cells": [
  {
   "cell_type": "code",
   "execution_count": 4,
   "id": "3b54328e",
   "metadata": {},
   "outputs": [
    {
     "name": "stdout",
     "output_type": "stream",
     "text": [
      "Found 150 images belonging to 3 classes.\n",
      "[[1. 0. 0.]]\n",
      "tf.Tensor([[0.10720269 0.71143514 0.18136221]], shape=(1, 3), dtype=float32)\n",
      "[[1. 0. 0.]]\n",
      "tf.Tensor([[0.28633463 0.67092186 0.04274355]], shape=(1, 3), dtype=float32)\n",
      "[[0. 1. 0.]]\n",
      "tf.Tensor([[0.253612   0.01734961 0.72903836]], shape=(1, 3), dtype=float32)\n",
      "[[0. 1. 0.]]\n",
      "tf.Tensor([[0.01588929 0.26724294 0.71686774]], shape=(1, 3), dtype=float32)\n",
      "[[0. 1. 0.]]\n",
      "tf.Tensor([[0.01741703 0.06164416 0.92093885]], shape=(1, 3), dtype=float32)\n",
      "[[0. 1. 0.]]\n",
      "tf.Tensor([[0.0013423  0.0604838  0.93817395]], shape=(1, 3), dtype=float32)\n",
      "[[0. 1. 0.]]\n",
      "tf.Tensor([[0.00703882 0.2662685  0.7266927 ]], shape=(1, 3), dtype=float32)\n",
      "[[0. 1. 0.]]\n",
      "tf.Tensor([[0.48417097 0.31296602 0.20286301]], shape=(1, 3), dtype=float32)\n",
      "[[0. 0. 1.]]\n",
      "tf.Tensor([[0.01454114 0.85991347 0.12554549]], shape=(1, 3), dtype=float32)\n",
      "[[0. 0. 1.]]\n",
      "tf.Tensor([[0.062718   0.56838703 0.368895  ]], shape=(1, 3), dtype=float32)\n",
      "[[0. 0. 1.]]\n",
      "tf.Tensor([[0.02353701 0.7159899  0.2604731 ]], shape=(1, 3), dtype=float32)\n",
      "[[0. 0. 1.]]\n",
      "tf.Tensor([[0.6090481  0.34566978 0.04528213]], shape=(1, 3), dtype=float32)\n",
      "[[0. 0. 1.]]\n",
      "tf.Tensor([[0.00318252 0.7078774  0.2889401 ]], shape=(1, 3), dtype=float32)\n",
      "[[0. 0. 1.]]\n",
      "tf.Tensor([[0.07080683 0.6967498  0.23244335]], shape=(1, 3), dtype=float32)\n",
      "[[0. 0. 1.]]\n",
      "tf.Tensor([[0.7649312  0.01254799 0.22252086]], shape=(1, 3), dtype=float32)\n",
      "Evaluated on 150 samples.\n",
      "Accuracy: 90%\n"
     ]
    },
    {
     "data": {
      "text/plain": [
       "<Figure size 432x288 with 0 Axes>"
      ]
     },
     "metadata": {},
     "output_type": "display_data"
    },
    {
     "data": {
      "text/plain": [
       "<Figure size 432x288 with 0 Axes>"
      ]
     },
     "metadata": {},
     "output_type": "display_data"
    },
    {
     "data": {
      "text/plain": [
       "<Figure size 432x288 with 0 Axes>"
      ]
     },
     "metadata": {},
     "output_type": "display_data"
    },
    {
     "data": {
      "text/plain": [
       "<Figure size 432x288 with 0 Axes>"
      ]
     },
     "metadata": {},
     "output_type": "display_data"
    },
    {
     "data": {
      "text/plain": [
       "<Figure size 432x288 with 0 Axes>"
      ]
     },
     "metadata": {},
     "output_type": "display_data"
    },
    {
     "data": {
      "text/plain": [
       "<Figure size 432x288 with 0 Axes>"
      ]
     },
     "metadata": {},
     "output_type": "display_data"
    },
    {
     "data": {
      "text/plain": [
       "<Figure size 432x288 with 0 Axes>"
      ]
     },
     "metadata": {},
     "output_type": "display_data"
    },
    {
     "data": {
      "text/plain": [
       "<Figure size 432x288 with 0 Axes>"
      ]
     },
     "metadata": {},
     "output_type": "display_data"
    },
    {
     "data": {
      "text/plain": [
       "<Figure size 432x288 with 0 Axes>"
      ]
     },
     "metadata": {},
     "output_type": "display_data"
    },
    {
     "data": {
      "text/plain": [
       "<Figure size 432x288 with 0 Axes>"
      ]
     },
     "metadata": {},
     "output_type": "display_data"
    },
    {
     "data": {
      "text/plain": [
       "<Figure size 432x288 with 0 Axes>"
      ]
     },
     "metadata": {},
     "output_type": "display_data"
    },
    {
     "data": {
      "text/plain": [
       "<Figure size 432x288 with 0 Axes>"
      ]
     },
     "metadata": {},
     "output_type": "display_data"
    },
    {
     "data": {
      "text/plain": [
       "<Figure size 432x288 with 0 Axes>"
      ]
     },
     "metadata": {},
     "output_type": "display_data"
    },
    {
     "data": {
      "text/plain": [
       "<Figure size 432x288 with 0 Axes>"
      ]
     },
     "metadata": {},
     "output_type": "display_data"
    },
    {
     "data": {
      "text/plain": [
       "<Figure size 432x288 with 0 Axes>"
      ]
     },
     "metadata": {},
     "output_type": "display_data"
    }
   ],
   "source": [
    "import argparse, pdb\n",
    "import numpy as np, tensorflow as tf\n",
    "from utils import IMG_SIZE, LABELS, image_generator\n",
    "\n",
    "\n",
    "def classify(model, test_dir):\n",
    "    \"\"\"\n",
    "    Classifies all images in test_dir\n",
    "    :param model: Model to be evaluated\n",
    "    :param test_dir: Directory including the images\n",
    "    :return: None\n",
    "    \"\"\"\n",
    "    test_img_gen = image_generator.flow_from_directory(\n",
    "        test_dir,\n",
    "        target_size=(IMG_SIZE, IMG_SIZE),\n",
    "        classes=LABELS,\n",
    "        batch_size=1,\n",
    "        shuffle=False,\n",
    "    )\n",
    "\n",
    "    ######### Your code starts here #########\n",
    "    # Classify all images in the given folder\n",
    "    # Calculate the accuracy and the number of test samples in the folder\n",
    "    # test_img_gen has a list attribute filenames where you can access the\n",
    "    # filename of the datapoint\n",
    "        # break after 1 epoch\n",
    "                #pdb.set_trace()\n",
    "    import matplotlib.pyplot as plt\n",
    "    num_test = test_img_gen.samples\n",
    "    correct_results = 0\n",
    "    for i in range(num_test):\n",
    "        x_i, y_i = next(test_img_gen)\n",
    "        pred = model(x_i)\n",
    "        if (np.argmax(pred)!=np.argmax(y_i)):\n",
    "            print(f'img: {i}')\n",
    "            print(y_i)\n",
    "            print(pred)\n",
    "        else:\n",
    "            correct_results+=1\n",
    "    accuracy = float(correct_results/num_test)\n",
    "\n",
    "    \n",
    "    ######### Your code ends here #########\n",
    "\n",
    "    print(f\"Evaluated on {num_test} samples.\")\n",
    "    print(f\"Accuracy: {accuracy*100:.0f}%\")\n",
    "\n",
    "\n",
    "if __name__ == \"__main__\":\n",
    "    parser = argparse.ArgumentParser()\n",
    "    parser.add_argument(\"--test_image_dir\", type=str, default=\"datasets/test/\")\n",
    "    FLAGS, _ = parser.parse_known_args()\n",
    "    model = tf.keras.models.load_model(\"./trained_models/trained.h5\")\n",
    "    #classify(model, FLAGS.test_image_dir)\n",
    "    classify(model, 'datasets/test')"
   ]
  },
  {
   "cell_type": "code",
   "execution_count": null,
   "id": "156e12af",
   "metadata": {},
   "outputs": [],
   "source": []
  }
 ],
 "metadata": {
  "kernelspec": {
   "display_name": "Python 3 (ipykernel)",
   "language": "python",
   "name": "python3"
  },
  "language_info": {
   "codemirror_mode": {
    "name": "ipython",
    "version": 3
   },
   "file_extension": ".py",
   "mimetype": "text/x-python",
   "name": "python",
   "nbconvert_exporter": "python",
   "pygments_lexer": "ipython3",
   "version": "3.9.7"
  }
 },
 "nbformat": 4,
 "nbformat_minor": 5
}
